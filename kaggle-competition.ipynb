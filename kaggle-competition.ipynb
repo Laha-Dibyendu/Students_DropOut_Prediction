{
 "cells": [
  {
   "cell_type": "code",
   "execution_count": 1,
   "id": "f955ea0e",
   "metadata": {
    "_cell_guid": "b1076dfc-b9ad-4769-8c92-a6c4dae69d19",
    "_uuid": "8f2839f25d086af736a60e9eeb907d3b93b6e0e5",
    "execution": {
     "iopub.execute_input": "2022-09-04T06:41:12.718768Z",
     "iopub.status.busy": "2022-09-04T06:41:12.717617Z",
     "iopub.status.idle": "2022-09-04T06:41:12.733163Z",
     "shell.execute_reply": "2022-09-04T06:41:12.731893Z"
    },
    "papermill": {
     "duration": 0.029733,
     "end_time": "2022-09-04T06:41:12.736358",
     "exception": false,
     "start_time": "2022-09-04T06:41:12.706625",
     "status": "completed"
    },
    "tags": []
   },
   "outputs": [
    {
     "name": "stdout",
     "output_type": "stream",
     "text": [
      "/kaggle/input/students-drop-out-prediction/train.csv\n",
      "/kaggle/input/students-drop-out-prediction/test.csv\n"
     ]
    }
   ],
   "source": [
    "# This Python 3 environment comes with many helpful analytics libraries installed\n",
    "# It is defined by the kaggle/python Docker image: https://github.com/kaggle/docker-python\n",
    "# For example, here's several helpful packages to load\n",
    "\n",
    "import numpy as np # linear algebra\n",
    "import pandas as pd # data processing, CSV file I/O (e.g. pd.read_csv)\n",
    "\n",
    "# Input data files are available in the read-only \"../input/\" directory\n",
    "# For example, running this (by clicking run or pressing Shift+Enter) will list all files under the input directory\n",
    "\n",
    "import os\n",
    "for dirname, _, filenames in os.walk('/kaggle/input'):\n",
    "    for filename in filenames:\n",
    "        print(os.path.join(dirname, filename))\n",
    "\n",
    "# You can write up to 20GB to the current directory (/kaggle/working/) that gets preserved as output when you create a version using \"Save & Run All\" \n",
    "# You can also write temporary files to /kaggle/temp/, but they won't be saved outside of the current session"
   ]
  },
  {
   "cell_type": "markdown",
   "id": "620922b8",
   "metadata": {
    "papermill": {
     "duration": 0.007086,
     "end_time": "2022-09-04T06:41:12.751245",
     "exception": false,
     "start_time": "2022-09-04T06:41:12.744159",
     "status": "completed"
    },
    "tags": []
   },
   "source": [
    "## Data"
   ]
  },
  {
   "cell_type": "code",
   "execution_count": 2,
   "id": "129727a4",
   "metadata": {
    "execution": {
     "iopub.execute_input": "2022-09-04T06:41:12.767918Z",
     "iopub.status.busy": "2022-09-04T06:41:12.767492Z",
     "iopub.status.idle": "2022-09-04T06:41:12.836711Z",
     "shell.execute_reply": "2022-09-04T06:41:12.835267Z"
    },
    "papermill": {
     "duration": 0.080725,
     "end_time": "2022-09-04T06:41:12.839449",
     "exception": false,
     "start_time": "2022-09-04T06:41:12.758724",
     "status": "completed"
    },
    "tags": []
   },
   "outputs": [
    {
     "data": {
      "text/html": [
       "<div>\n",
       "<style scoped>\n",
       "    .dataframe tbody tr th:only-of-type {\n",
       "        vertical-align: middle;\n",
       "    }\n",
       "\n",
       "    .dataframe tbody tr th {\n",
       "        vertical-align: top;\n",
       "    }\n",
       "\n",
       "    .dataframe thead th {\n",
       "        text-align: right;\n",
       "    }\n",
       "</style>\n",
       "<table border=\"1\" class=\"dataframe\">\n",
       "  <thead>\n",
       "    <tr style=\"text-align: right;\">\n",
       "      <th></th>\n",
       "      <th>id</th>\n",
       "      <th>v_21</th>\n",
       "      <th>v_32</th>\n",
       "      <th>v_15</th>\n",
       "      <th>v_4</th>\n",
       "      <th>v_1</th>\n",
       "      <th>v_8</th>\n",
       "      <th>v_12</th>\n",
       "      <th>v_25</th>\n",
       "      <th>v_20</th>\n",
       "      <th>...</th>\n",
       "      <th>v_2</th>\n",
       "      <th>v_16</th>\n",
       "      <th>v_34</th>\n",
       "      <th>v_35</th>\n",
       "      <th>v_36</th>\n",
       "      <th>v_37</th>\n",
       "      <th>v_38</th>\n",
       "      <th>v_39</th>\n",
       "      <th>v_40</th>\n",
       "      <th>label</th>\n",
       "    </tr>\n",
       "  </thead>\n",
       "  <tbody>\n",
       "    <tr>\n",
       "      <th>0</th>\n",
       "      <td>0</td>\n",
       "      <td>3</td>\n",
       "      <td>6</td>\n",
       "      <td>11</td>\n",
       "      <td>55</td>\n",
       "      <td>1</td>\n",
       "      <td>1</td>\n",
       "      <td>16</td>\n",
       "      <td>5</td>\n",
       "      <td>60</td>\n",
       "      <td>...</td>\n",
       "      <td>-0.3</td>\n",
       "      <td>0.79</td>\n",
       "      <td>1</td>\n",
       "      <td>93</td>\n",
       "      <td>47</td>\n",
       "      <td>1</td>\n",
       "      <td>48</td>\n",
       "      <td>26</td>\n",
       "      <td>0</td>\n",
       "      <td>1</td>\n",
       "    </tr>\n",
       "    <tr>\n",
       "      <th>1</th>\n",
       "      <td>1</td>\n",
       "      <td>8</td>\n",
       "      <td>94</td>\n",
       "      <td>12</td>\n",
       "      <td>65</td>\n",
       "      <td>1</td>\n",
       "      <td>4</td>\n",
       "      <td>22</td>\n",
       "      <td>4</td>\n",
       "      <td>173</td>\n",
       "      <td>...</td>\n",
       "      <td>5.4</td>\n",
       "      <td>6.51</td>\n",
       "      <td>6</td>\n",
       "      <td>29</td>\n",
       "      <td>37</td>\n",
       "      <td>25</td>\n",
       "      <td>53</td>\n",
       "      <td>35</td>\n",
       "      <td>7</td>\n",
       "      <td>2</td>\n",
       "    </tr>\n",
       "    <tr>\n",
       "      <th>2</th>\n",
       "      <td>2</td>\n",
       "      <td>3</td>\n",
       "      <td>166</td>\n",
       "      <td>10</td>\n",
       "      <td>155</td>\n",
       "      <td>1</td>\n",
       "      <td>1</td>\n",
       "      <td>16</td>\n",
       "      <td>1</td>\n",
       "      <td>309</td>\n",
       "      <td>...</td>\n",
       "      <td>0.6</td>\n",
       "      <td>2.02</td>\n",
       "      <td>1</td>\n",
       "      <td>8</td>\n",
       "      <td>34</td>\n",
       "      <td>4</td>\n",
       "      <td>43</td>\n",
       "      <td>38</td>\n",
       "      <td>2</td>\n",
       "      <td>1</td>\n",
       "    </tr>\n",
       "    <tr>\n",
       "      <th>3</th>\n",
       "      <td>3</td>\n",
       "      <td>3</td>\n",
       "      <td>6</td>\n",
       "      <td>13</td>\n",
       "      <td>121</td>\n",
       "      <td>1</td>\n",
       "      <td>1</td>\n",
       "      <td>16</td>\n",
       "      <td>1</td>\n",
       "      <td>6</td>\n",
       "      <td>...</td>\n",
       "      <td>0.6</td>\n",
       "      <td>2.02</td>\n",
       "      <td>7</td>\n",
       "      <td>37</td>\n",
       "      <td>40</td>\n",
       "      <td>27</td>\n",
       "      <td>43</td>\n",
       "      <td>65</td>\n",
       "      <td>0</td>\n",
       "      <td>1</td>\n",
       "    </tr>\n",
       "    <tr>\n",
       "      <th>4</th>\n",
       "      <td>4</td>\n",
       "      <td>4</td>\n",
       "      <td>51</td>\n",
       "      <td>18</td>\n",
       "      <td>21</td>\n",
       "      <td>1</td>\n",
       "      <td>17</td>\n",
       "      <td>22</td>\n",
       "      <td>118</td>\n",
       "      <td>168</td>\n",
       "      <td>...</td>\n",
       "      <td>8.4</td>\n",
       "      <td>12.51</td>\n",
       "      <td>16</td>\n",
       "      <td>22</td>\n",
       "      <td>25</td>\n",
       "      <td>25</td>\n",
       "      <td>24</td>\n",
       "      <td>23</td>\n",
       "      <td>1</td>\n",
       "      <td>1</td>\n",
       "    </tr>\n",
       "  </tbody>\n",
       "</table>\n",
       "<p>5 rows × 43 columns</p>\n",
       "</div>"
      ],
      "text/plain": [
       "   id  v_21  v_32  v_15  v_4  v_1  v_8  v_12  v_25  v_20  ...  v_2   v_16  \\\n",
       "0   0     3     6    11   55    1    1    16     5    60  ... -0.3   0.79   \n",
       "1   1     8    94    12   65    1    4    22     4   173  ...  5.4   6.51   \n",
       "2   2     3   166    10  155    1    1    16     1   309  ...  0.6   2.02   \n",
       "3   3     3     6    13  121    1    1    16     1     6  ...  0.6   2.02   \n",
       "4   4     4    51    18   21    1   17    22   118   168  ...  8.4  12.51   \n",
       "\n",
       "   v_34  v_35  v_36  v_37  v_38  v_39  v_40  label  \n",
       "0     1    93    47     1    48    26     0      1  \n",
       "1     6    29    37    25    53    35     7      2  \n",
       "2     1     8    34     4    43    38     2      1  \n",
       "3     7    37    40    27    43    65     0      1  \n",
       "4    16    22    25    25    24    23     1      1  \n",
       "\n",
       "[5 rows x 43 columns]"
      ]
     },
     "execution_count": 2,
     "metadata": {},
     "output_type": "execute_result"
    }
   ],
   "source": [
    "data=pd.read_csv('/kaggle/input/students-drop-out-prediction/train.csv')\n",
    "data.head()"
   ]
  },
  {
   "cell_type": "code",
   "execution_count": 3,
   "id": "309b3cd8",
   "metadata": {
    "execution": {
     "iopub.execute_input": "2022-09-04T06:41:12.857197Z",
     "iopub.status.busy": "2022-09-04T06:41:12.856769Z",
     "iopub.status.idle": "2022-09-04T06:41:12.865212Z",
     "shell.execute_reply": "2022-09-04T06:41:12.863687Z"
    },
    "papermill": {
     "duration": 0.020632,
     "end_time": "2022-09-04T06:41:12.868227",
     "exception": false,
     "start_time": "2022-09-04T06:41:12.847595",
     "status": "completed"
    },
    "tags": []
   },
   "outputs": [
    {
     "name": "stdout",
     "output_type": "stream",
     "text": [
      "(3796, 43)\n"
     ]
    }
   ],
   "source": [
    "data.isnull().sum()\n",
    "print(data.shape)"
   ]
  },
  {
   "cell_type": "code",
   "execution_count": 4,
   "id": "5d9c63fc",
   "metadata": {
    "execution": {
     "iopub.execute_input": "2022-09-04T06:41:12.886533Z",
     "iopub.status.busy": "2022-09-04T06:41:12.885772Z",
     "iopub.status.idle": "2022-09-04T06:41:12.907075Z",
     "shell.execute_reply": "2022-09-04T06:41:12.905236Z"
    },
    "papermill": {
     "duration": 0.0332,
     "end_time": "2022-09-04T06:41:12.909731",
     "exception": false,
     "start_time": "2022-09-04T06:41:12.876531",
     "status": "completed"
    },
    "tags": []
   },
   "outputs": [
    {
     "name": "stdout",
     "output_type": "stream",
     "text": [
      "   id  v_21  v_32  v_15  v_4  v_1  v_8  v_12  v_25  v_20  ...   v_7  v_2  \\\n",
      "0   0     3     6    11   55    1    1    16     5    60  ...  13.9 -0.3   \n",
      "1   1     8    94    12   65    1    4    22     4   173  ...  14.9  5.4   \n",
      "2   2     3   166    10  155    1    1    16     1   309  ...  11.1  0.6   \n",
      "3   3     3     6    13  121    1    1    16     1     6  ...  11.1  0.6   \n",
      "4   4     4    51    18   21    1   17    22   118   168  ...  10.9  8.4   \n",
      "\n",
      "    v_16  v_34  v_35  v_36  v_37  v_38  v_39  v_40  \n",
      "0   0.79     1    93    47     1    48    26     0  \n",
      "1   6.51     6    29    37    25    53    35     7  \n",
      "2   2.02     1     8    34     4    43    38     2  \n",
      "3   2.02     7    37    40    27    43    65     0  \n",
      "4  12.51    16    22    25    25    24    23     1  \n",
      "\n",
      "[5 rows x 42 columns]\n",
      "0    1\n",
      "1    2\n",
      "2    1\n",
      "3    1\n",
      "4    1\n",
      "Name: label, dtype: int64\n"
     ]
    }
   ],
   "source": [
    "X_t=data.drop(['label'], axis=1)\n",
    "y_t=data['label']\n",
    "print(X_t.head())\n",
    "print(y_t.head())"
   ]
  },
  {
   "cell_type": "markdown",
   "id": "4f1e7864",
   "metadata": {
    "papermill": {
     "duration": 0.007427,
     "end_time": "2022-09-04T06:41:12.925049",
     "exception": false,
     "start_time": "2022-09-04T06:41:12.917622",
     "status": "completed"
    },
    "tags": []
   },
   "source": [
    "## Imports"
   ]
  },
  {
   "cell_type": "code",
   "execution_count": 5,
   "id": "42cbd7ed",
   "metadata": {
    "execution": {
     "iopub.execute_input": "2022-09-04T06:41:12.943209Z",
     "iopub.status.busy": "2022-09-04T06:41:12.942762Z",
     "iopub.status.idle": "2022-09-04T06:41:14.392307Z",
     "shell.execute_reply": "2022-09-04T06:41:14.391203Z"
    },
    "papermill": {
     "duration": 1.462151,
     "end_time": "2022-09-04T06:41:14.395115",
     "exception": false,
     "start_time": "2022-09-04T06:41:12.932964",
     "status": "completed"
    },
    "tags": []
   },
   "outputs": [],
   "source": [
    "from sklearn.model_selection import train_test_split\n",
    "\n",
    "from sklearn.preprocessing import StandardScaler,MinMaxScaler,MaxAbsScaler\n",
    "\n",
    "from sklearn.metrics import ConfusionMatrixDisplay \n",
    "from sklearn.metrics import precision_score, recall_score, classification_report \n",
    "from sklearn.metrics import precision_recall_curve ,make_scorer ,f1_score\n",
    "import matplotlib.pyplot as plt\n",
    "\n",
    "from sklearn.model_selection import GridSearchCV\n",
    "\n",
    "from sklearn.linear_model import LogisticRegression #Base Model\n",
    "from sklearn.neighbors import KNeighborsClassifier\n",
    "from sklearn.svm import SVC\n",
    "from sklearn.tree import DecisionTreeClassifier\n",
    "from sklearn.ensemble import RandomForestClassifier\n",
    "from sklearn.ensemble import AdaBoostClassifier #-------------------Selected Model for Submission\n",
    "from xgboost import XGBClassifier"
   ]
  },
  {
   "cell_type": "markdown",
   "id": "c1b2b08a",
   "metadata": {
    "papermill": {
     "duration": 0.007416,
     "end_time": "2022-09-04T06:41:14.410515",
     "exception": false,
     "start_time": "2022-09-04T06:41:14.403099",
     "status": "completed"
    },
    "tags": []
   },
   "source": [
    "## Splitting the Data"
   ]
  },
  {
   "cell_type": "code",
   "execution_count": 6,
   "id": "f7ffd45b",
   "metadata": {
    "execution": {
     "iopub.execute_input": "2022-09-04T06:41:14.428955Z",
     "iopub.status.busy": "2022-09-04T06:41:14.427935Z",
     "iopub.status.idle": "2022-09-04T06:41:14.439615Z",
     "shell.execute_reply": "2022-09-04T06:41:14.438463Z"
    },
    "papermill": {
     "duration": 0.023204,
     "end_time": "2022-09-04T06:41:14.442188",
     "exception": false,
     "start_time": "2022-09-04T06:41:14.418984",
     "status": "completed"
    },
    "tags": []
   },
   "outputs": [],
   "source": [
    "x_train, x_test, y_train, y_test = train_test_split(X_t,y_t, test_size=0.2,random_state=1980)"
   ]
  },
  {
   "cell_type": "markdown",
   "id": "682a52c8",
   "metadata": {
    "papermill": {
     "duration": 0.007284,
     "end_time": "2022-09-04T06:41:14.457169",
     "exception": false,
     "start_time": "2022-09-04T06:41:14.449885",
     "status": "completed"
    },
    "tags": []
   },
   "source": [
    "## Data Preprocessing"
   ]
  },
  {
   "cell_type": "code",
   "execution_count": 7,
   "id": "7d8a1015",
   "metadata": {
    "execution": {
     "iopub.execute_input": "2022-09-04T06:41:14.474521Z",
     "iopub.status.busy": "2022-09-04T06:41:14.473652Z",
     "iopub.status.idle": "2022-09-04T06:41:14.491327Z",
     "shell.execute_reply": "2022-09-04T06:41:14.490200Z"
    },
    "papermill": {
     "duration": 0.029276,
     "end_time": "2022-09-04T06:41:14.494092",
     "exception": false,
     "start_time": "2022-09-04T06:41:14.464816",
     "status": "completed"
    },
    "tags": []
   },
   "outputs": [],
   "source": [
    "scaler=StandardScaler()\n",
    "x_train_1=scaler.fit_transform(x_train)\n",
    "x_test_1=scaler.fit_transform(x_test)"
   ]
  },
  {
   "cell_type": "markdown",
   "id": "dab1e34a",
   "metadata": {
    "papermill": {
     "duration": 0.007403,
     "end_time": "2022-09-04T06:41:14.509313",
     "exception": false,
     "start_time": "2022-09-04T06:41:14.501910",
     "status": "completed"
    },
    "tags": []
   },
   "source": [
    "## Base Model\n",
    "### Logistic Regression"
   ]
  },
  {
   "cell_type": "code",
   "execution_count": 8,
   "id": "7f41128c",
   "metadata": {
    "execution": {
     "iopub.execute_input": "2022-09-04T06:41:14.526461Z",
     "iopub.status.busy": "2022-09-04T06:41:14.526055Z",
     "iopub.status.idle": "2022-09-04T06:41:14.622887Z",
     "shell.execute_reply": "2022-09-04T06:41:14.621130Z"
    },
    "papermill": {
     "duration": 0.11018,
     "end_time": "2022-09-04T06:41:14.627178",
     "exception": false,
     "start_time": "2022-09-04T06:41:14.516998",
     "status": "completed"
    },
    "tags": []
   },
   "outputs": [
    {
     "name": "stdout",
     "output_type": "stream",
     "text": [
      "Training Score 0.7361660079051383\n",
      "Test Score 0.7644736842105263\n"
     ]
    }
   ],
   "source": [
    "lr=LogisticRegression()\n",
    "lr.fit(x_train_1,y_train)\n",
    "print(\"Training Score\",lr.score(x_train_1,y_train))\n",
    "print(\"Test Score\",lr.score(x_test_1,y_test))"
   ]
  },
  {
   "cell_type": "markdown",
   "id": "dd0a52d8",
   "metadata": {
    "papermill": {
     "duration": 0.011862,
     "end_time": "2022-09-04T06:41:14.651482",
     "exception": false,
     "start_time": "2022-09-04T06:41:14.639620",
     "status": "completed"
    },
    "tags": []
   },
   "source": [
    "### KNN Model\n",
    "#### with cross validation"
   ]
  },
  {
   "cell_type": "code",
   "execution_count": 9,
   "id": "3be20eee",
   "metadata": {
    "execution": {
     "iopub.execute_input": "2022-09-04T06:41:14.678338Z",
     "iopub.status.busy": "2022-09-04T06:41:14.677769Z",
     "iopub.status.idle": "2022-09-04T06:41:19.952344Z",
     "shell.execute_reply": "2022-09-04T06:41:19.951080Z"
    },
    "papermill": {
     "duration": 5.291329,
     "end_time": "2022-09-04T06:41:19.955051",
     "exception": false,
     "start_time": "2022-09-04T06:41:14.663722",
     "status": "completed"
    },
    "tags": []
   },
   "outputs": [
    {
     "name": "stdout",
     "output_type": "stream",
     "text": [
      "Training Score 0.7549407114624506\n",
      "Test Score 0.6828947368421052\n"
     ]
    }
   ],
   "source": [
    "np.random.seed(42)\n",
    "k=GridSearchCV(KNeighborsClassifier(algorithm='auto'),{'n_neighbors':[2,4,5],'weights':['uniform','distance'],'metric':['euclidean', 'manhattan']},cv=5)\n",
    "k.fit(x_train_1,y_train)\n",
    "print(\"Training Score\",k.score(x_train_1,y_train))\n",
    "print(\"Test Score\",k.score(x_test_1,y_test))"
   ]
  },
  {
   "cell_type": "markdown",
   "id": "fe3b0b60",
   "metadata": {
    "papermill": {
     "duration": 0.007572,
     "end_time": "2022-09-04T06:41:19.970706",
     "exception": false,
     "start_time": "2022-09-04T06:41:19.963134",
     "status": "completed"
    },
    "tags": []
   },
   "source": [
    "### SVM Model"
   ]
  },
  {
   "cell_type": "code",
   "execution_count": 10,
   "id": "09459645",
   "metadata": {
    "execution": {
     "iopub.execute_input": "2022-09-04T06:41:19.988472Z",
     "iopub.status.busy": "2022-09-04T06:41:19.987987Z",
     "iopub.status.idle": "2022-09-04T06:41:21.650823Z",
     "shell.execute_reply": "2022-09-04T06:41:21.649466Z"
    },
    "papermill": {
     "duration": 1.675703,
     "end_time": "2022-09-04T06:41:21.654279",
     "exception": false,
     "start_time": "2022-09-04T06:41:19.978576",
     "status": "completed"
    },
    "tags": []
   },
   "outputs": [
    {
     "name": "stdout",
     "output_type": "stream",
     "text": [
      "Training Score 0.994729907773386\n",
      "Test Score 0.7263157894736842\n"
     ]
    }
   ],
   "source": [
    "sm=SVC(C=35)\n",
    "sm.fit(x_train_1,y_train)\n",
    "print(\"Training Score\",sm.score(x_train_1,y_train))\n",
    "print(\"Test Score\",sm.score(x_test_1,y_test))"
   ]
  },
  {
   "cell_type": "markdown",
   "id": "970995e3",
   "metadata": {
    "papermill": {
     "duration": 0.007631,
     "end_time": "2022-09-04T06:41:21.670351",
     "exception": false,
     "start_time": "2022-09-04T06:41:21.662720",
     "status": "completed"
    },
    "tags": []
   },
   "source": [
    "### Decision Tree Classifier\n",
    "#### with Cross Validation"
   ]
  },
  {
   "cell_type": "code",
   "execution_count": 11,
   "id": "c10c22ce",
   "metadata": {
    "execution": {
     "iopub.execute_input": "2022-09-04T06:41:21.688385Z",
     "iopub.status.busy": "2022-09-04T06:41:21.687386Z",
     "iopub.status.idle": "2022-09-04T06:41:23.160167Z",
     "shell.execute_reply": "2022-09-04T06:41:23.159060Z"
    },
    "papermill": {
     "duration": 1.484504,
     "end_time": "2022-09-04T06:41:23.162691",
     "exception": false,
     "start_time": "2022-09-04T06:41:21.678187",
     "status": "completed"
    },
    "tags": []
   },
   "outputs": [
    {
     "data": {
      "text/plain": [
       "{'criterion': 'entropy', 'splitter': 'best'}"
      ]
     },
     "execution_count": 11,
     "metadata": {},
     "output_type": "execute_result"
    }
   ],
   "source": [
    "DT=GridSearchCV(DecisionTreeClassifier(),{'splitter':['best','random'],'criterion':['gini','entropy']},cv=10)\n",
    "DT.fit(x_train_1,y_train)\n",
    "DT.best_params_"
   ]
  },
  {
   "cell_type": "code",
   "execution_count": 12,
   "id": "4b66eb8f",
   "metadata": {
    "execution": {
     "iopub.execute_input": "2022-09-04T06:41:23.182392Z",
     "iopub.status.busy": "2022-09-04T06:41:23.181602Z",
     "iopub.status.idle": "2022-09-04T06:41:23.191224Z",
     "shell.execute_reply": "2022-09-04T06:41:23.190057Z"
    },
    "papermill": {
     "duration": 0.021842,
     "end_time": "2022-09-04T06:41:23.193761",
     "exception": false,
     "start_time": "2022-09-04T06:41:23.171919",
     "status": "completed"
    },
    "tags": []
   },
   "outputs": [
    {
     "data": {
      "text/plain": [
       "0.6355263157894737"
      ]
     },
     "execution_count": 12,
     "metadata": {},
     "output_type": "execute_result"
    }
   ],
   "source": [
    "DT.score(x_train_1,y_train)\n",
    "DT.score(x_test_1,y_test)"
   ]
  },
  {
   "cell_type": "markdown",
   "id": "78bb2bb3",
   "metadata": {
    "papermill": {
     "duration": 0.007903,
     "end_time": "2022-09-04T06:41:23.209980",
     "exception": false,
     "start_time": "2022-09-04T06:41:23.202077",
     "status": "completed"
    },
    "tags": []
   },
   "source": [
    "### XgBoost Classifier"
   ]
  },
  {
   "cell_type": "code",
   "execution_count": 13,
   "id": "5fb75009",
   "metadata": {
    "execution": {
     "iopub.execute_input": "2022-09-04T06:41:23.228193Z",
     "iopub.status.busy": "2022-09-04T06:41:23.227778Z",
     "iopub.status.idle": "2022-09-04T06:41:25.204849Z",
     "shell.execute_reply": "2022-09-04T06:41:25.203726Z"
    },
    "papermill": {
     "duration": 1.989,
     "end_time": "2022-09-04T06:41:25.207155",
     "exception": false,
     "start_time": "2022-09-04T06:41:23.218155",
     "status": "completed"
    },
    "tags": []
   },
   "outputs": [
    {
     "name": "stdout",
     "output_type": "stream",
     "text": [
      "Training Score 1.0\n",
      "Test Score 0.7828947368421053\n"
     ]
    },
    {
     "data": {
      "image/png": "[encoded data removed]",
      "text/plain": [
       "<Figure size 432x288 with 2 Axes>"
      ]
     },
     "metadata": {
      "needs_background": "light"
     },
     "output_type": "display_data"
    }
   ],
   "source": [
    "XG =XGBClassifier()\n",
    "XG.fit(x_train_1, y_train)\n",
    "print(\"Training Score\",XG.score(x_train_1,y_train))\n",
    "print(\"Test Score\",XG.score(x_test_1,y_test))\n",
    "\n",
    "\n",
    "y_hat_XG=XG.predict(x_test_1)\n",
    "ConfusionMatrixDisplay.from_predictions(y_test, y_hat_XG)\n",
    "plt.show()"
   ]
  },
  {
   "cell_type": "code",
   "execution_count": 14,
   "id": "fbca1d87",
   "metadata": {
    "execution": {
     "iopub.execute_input": "2022-09-04T06:41:25.226463Z",
     "iopub.status.busy": "2022-09-04T06:41:25.226051Z",
     "iopub.status.idle": "2022-09-04T06:41:25.238492Z",
     "shell.execute_reply": "2022-09-04T06:41:25.236914Z"
    },
    "papermill": {
     "duration": 0.025281,
     "end_time": "2022-09-04T06:41:25.241314",
     "exception": false,
     "start_time": "2022-09-04T06:41:25.216033",
     "status": "completed"
    },
    "tags": []
   },
   "outputs": [
    {
     "name": "stdout",
     "output_type": "stream",
     "text": [
      "              precision    recall  f1-score   support\n",
      "\n",
      "           0       0.78      0.80      0.79       247\n",
      "           1       0.82      0.93      0.87       394\n",
      "           2       0.53      0.26      0.35       119\n",
      "\n",
      "    accuracy                           0.78       760\n",
      "   macro avg       0.71      0.66      0.67       760\n",
      "weighted avg       0.76      0.78      0.76       760\n",
      "\n"
     ]
    }
   ],
   "source": [
    "print(classification_report(y_test,y_hat_XG))"
   ]
  },
  {
   "cell_type": "markdown",
   "id": "67b288fd",
   "metadata": {
    "papermill": {
     "duration": 0.008225,
     "end_time": "2022-09-04T06:41:25.258227",
     "exception": false,
     "start_time": "2022-09-04T06:41:25.250002",
     "status": "completed"
    },
    "tags": []
   },
   "source": [
    "### Hyperparameter Tuning of RandomForestClassifier\n",
    "### With Cross Validation"
   ]
  },
  {
   "cell_type": "code",
   "execution_count": 15,
   "id": "2361eba4",
   "metadata": {
    "execution": {
     "iopub.execute_input": "2022-09-04T06:41:25.277403Z",
     "iopub.status.busy": "2022-09-04T06:41:25.276931Z",
     "iopub.status.idle": "2022-09-04T06:42:47.933120Z",
     "shell.execute_reply": "2022-09-04T06:42:47.931897Z"
    },
    "papermill": {
     "duration": 82.676759,
     "end_time": "2022-09-04T06:42:47.943576",
     "exception": false,
     "start_time": "2022-09-04T06:41:25.266817",
     "status": "completed"
    },
    "tags": []
   },
   "outputs": [
    {
     "name": "stdout",
     "output_type": "stream",
     "text": [
      "Training Score 0.7061923583662714\n",
      "Test Score 0.7394736842105263\n"
     ]
    }
   ],
   "source": [
    "np.random.seed(42)\n",
    "'''rfc=GridSearchCV(RandomForestClassifier(),{'n_estimators':[5,10,20],'max_features':['auto','sqrt'],\n",
    "                                           'max_depth':[2,4,6,8],'min_samples_split':[2,3,5],\n",
    "                                           'min_samples_leaf':[1,2],'bootstrap':[True,False]},cv=10)'''\n",
    "\n",
    "\n",
    "rfc=GridSearchCV(RandomForestClassifier(),{'n_estimators':[10,20,50],'max_features':['auto','sqrt'],\n",
    "                                           'max_depth':[2,4],'min_samples_split':[2,5],'min_samples_leaf':[1,2],\n",
    "                                           'bootstrap':[True,False]},cv=10)\n",
    "\n",
    "\n",
    "rfc.fit(x_train_1, y_train)\n",
    "print(\"Training Score\",rfc.score(x_train_1,y_train))\n",
    "print(\"Test Score\",rfc.score(x_test_1,y_test))"
   ]
  },
  {
   "cell_type": "code",
   "execution_count": 16,
   "id": "ddf0bb1e",
   "metadata": {
    "execution": {
     "iopub.execute_input": "2022-09-04T06:42:47.962716Z",
     "iopub.status.busy": "2022-09-04T06:42:47.962280Z",
     "iopub.status.idle": "2022-09-04T06:42:47.967808Z",
     "shell.execute_reply": "2022-09-04T06:42:47.966898Z"
    },
    "papermill": {
     "duration": 0.018006,
     "end_time": "2022-09-04T06:42:47.970303",
     "exception": false,
     "start_time": "2022-09-04T06:42:47.952297",
     "status": "completed"
    },
    "tags": []
   },
   "outputs": [
    {
     "name": "stdout",
     "output_type": "stream",
     "text": [
      "{'bootstrap': False, 'max_depth': 4, 'max_features': 'sqrt', 'min_samples_leaf': 1, 'min_samples_split': 2, 'n_estimators': 20}\n",
      "0.7045488101441724\n"
     ]
    }
   ],
   "source": [
    "print(rfc.best_params_)\n",
    "print(rfc.best_score_)"
   ]
  },
  {
   "cell_type": "markdown",
   "id": "4cf7bfbe",
   "metadata": {
    "papermill": {
     "duration": 0.00827,
     "end_time": "2022-09-04T06:42:47.987713",
     "exception": false,
     "start_time": "2022-09-04T06:42:47.979443",
     "status": "completed"
    },
    "tags": []
   },
   "source": [
    "### AdaBoost Classifier\n",
    "#### Selected Model for Submission"
   ]
  },
  {
   "cell_type": "code",
   "execution_count": 17,
   "id": "a9b551a4",
   "metadata": {
    "execution": {
     "iopub.execute_input": "2022-09-04T06:42:48.007087Z",
     "iopub.status.busy": "2022-09-04T06:42:48.006341Z",
     "iopub.status.idle": "2022-09-04T06:42:48.988524Z",
     "shell.execute_reply": "2022-09-04T06:42:48.986881Z"
    },
    "papermill": {
     "duration": 0.994874,
     "end_time": "2022-09-04T06:42:48.991165",
     "exception": false,
     "start_time": "2022-09-04T06:42:47.996291",
     "status": "completed"
    },
    "tags": []
   },
   "outputs": [
    {
     "name": "stdout",
     "output_type": "stream",
     "text": [
      "Training Score 1.0\n",
      "Test Score 0.7710526315789473\n"
     ]
    }
   ],
   "source": [
    "ada=AdaBoostClassifier(base_estimator=RandomForestClassifier())\n",
    "ada.fit(x_train_1,y_train)\n",
    "y_hat=ada.predict(x_test_1)\n",
    "print(\"Training Score\",ada.score(x_train_1,y_train))\n",
    "print(\"Test Score\",ada.score(x_test_1,y_test))"
   ]
  },
  {
   "cell_type": "code",
   "execution_count": 18,
   "id": "bed754ea",
   "metadata": {
    "execution": {
     "iopub.execute_input": "2022-09-04T06:42:49.010325Z",
     "iopub.status.busy": "2022-09-04T06:42:49.009917Z",
     "iopub.status.idle": "2022-09-04T06:42:49.232009Z",
     "shell.execute_reply": "2022-09-04T06:42:49.230779Z"
    },
    "papermill": {
     "duration": 0.234496,
     "end_time": "2022-09-04T06:42:49.234444",
     "exception": false,
     "start_time": "2022-09-04T06:42:48.999948",
     "status": "completed"
    },
    "tags": []
   },
   "outputs": [
    {
     "data": {
      "image/png": "[encoded data removed]",
      "text/plain": [
       "<Figure size 432x288 with 2 Axes>"
      ]
     },
     "metadata": {
      "needs_background": "light"
     },
     "output_type": "display_data"
    }
   ],
   "source": [
    "ConfusionMatrixDisplay.from_predictions(y_test, y_hat)\n",
    "plt.show()"
   ]
  },
  {
   "cell_type": "code",
   "execution_count": 19,
   "id": "31f92d65",
   "metadata": {
    "execution": {
     "iopub.execute_input": "2022-09-04T06:42:49.254590Z",
     "iopub.status.busy": "2022-09-04T06:42:49.253779Z",
     "iopub.status.idle": "2022-09-04T06:42:49.265442Z",
     "shell.execute_reply": "2022-09-04T06:42:49.263916Z"
    },
    "papermill": {
     "duration": 0.025474,
     "end_time": "2022-09-04T06:42:49.268952",
     "exception": false,
     "start_time": "2022-09-04T06:42:49.243478",
     "status": "completed"
    },
    "tags": []
   },
   "outputs": [
    {
     "name": "stdout",
     "output_type": "stream",
     "text": [
      "              precision    recall  f1-score   support\n",
      "\n",
      "           0       0.81      0.76      0.78       247\n",
      "           1       0.78      0.93      0.85       394\n",
      "           2       0.56      0.25      0.35       119\n",
      "\n",
      "    accuracy                           0.77       760\n",
      "   macro avg       0.71      0.65      0.66       760\n",
      "weighted avg       0.75      0.77      0.75       760\n",
      "\n"
     ]
    }
   ],
   "source": [
    "print(classification_report(y_test,y_hat))"
   ]
  },
  {
   "cell_type": "markdown",
   "id": "4252cf66",
   "metadata": {
    "papermill": {
     "duration": 0.008753,
     "end_time": "2022-09-04T06:42:49.287142",
     "exception": false,
     "start_time": "2022-09-04T06:42:49.278389",
     "status": "completed"
    },
    "tags": []
   },
   "source": [
    "## Test Data"
   ]
  },
  {
   "cell_type": "code",
   "execution_count": 20,
   "id": "dc578e11",
   "metadata": {
    "execution": {
     "iopub.execute_input": "2022-09-04T06:42:49.307261Z",
     "iopub.status.busy": "2022-09-04T06:42:49.306290Z",
     "iopub.status.idle": "2022-09-04T06:42:49.388158Z",
     "shell.execute_reply": "2022-09-04T06:42:49.386882Z"
    },
    "papermill": {
     "duration": 0.095218,
     "end_time": "2022-09-04T06:42:49.391361",
     "exception": false,
     "start_time": "2022-09-04T06:42:49.296143",
     "status": "completed"
    },
    "tags": []
   },
   "outputs": [],
   "source": [
    "test_data=pd.read_csv('../input/students-drop-out-prediction/test.csv')\n",
    "X_Test=scaler.fit_transform(test_data)\n",
    "\n",
    "\n",
    "y_hat_final=ada.predict(X_Test)\n",
    "final=pd.DataFrame({\"id\":test_data.id,\"label\":y_hat_final})\n",
    "final.to_csv(\"submission.csv\",index=False)\n"
   ]
  }
 ],
 "metadata": {
  "kernelspec": {
   "display_name": "Python 3",
   "language": "python",
   "name": "python3"
  },
  "language_info": {
   "codemirror_mode": {
    "name": "ipython",
    "version": 3
   },
   "file_extension": ".py",
   "mimetype": "text/x-python",
   "name": "python",
   "nbconvert_exporter": "python",
   "pygments_lexer": "ipython3",
   "version": "3.7.12"
  },
  "papermill": {
   "default_parameters": {},
   "duration": 106.799113,
   "end_time": "2022-09-04T06:42:50.225059",
   "environment_variables": {},
   "exception": null,
   "input_path": "__notebook__.ipynb",
   "output_path": "__notebook__.ipynb",
   "parameters": {},
   "start_time": "2022-09-04T06:41:03.425946",
   "version": "2.3.4"
  }
 },
 "nbformat": 4,
 "nbformat_minor": 5
}
